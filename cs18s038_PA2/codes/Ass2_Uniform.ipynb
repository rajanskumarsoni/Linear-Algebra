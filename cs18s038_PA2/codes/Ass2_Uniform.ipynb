{
  "nbformat": 4,
  "nbformat_minor": 0,
  "metadata": {
    "colab": {
      "name": "Ass2_Uniform.ipynb",
      "provenance": []
    },
    "kernelspec": {
      "name": "python3",
      "display_name": "Python 3"
    }
  },
  "cells": [
    {
      "cell_type": "code",
      "metadata": {
        "id": "9XlhvXrbIbhs",
        "colab_type": "code",
        "colab": {}
      },
      "source": [
        "from math import exp, factorial\n",
        "import matplotlib.pyplot as plt\n",
        "import numpy as np\n",
        "import random \n",
        "import seaborn as sns"
      ],
      "execution_count": 0,
      "outputs": []
    },
    {
      "cell_type": "code",
      "metadata": {
        "id": "SjZdh3AboQh0",
        "colab_type": "code",
        "colab": {}
      },
      "source": [
        "def genrate_sample_mean(a,b,N):\n",
        "  X=np.random.uniform(a,b,N)\n",
        "  p=sum(X)/N \n",
        "  return p"
      ],
      "execution_count": 0,
      "outputs": []
    },
    {
      "cell_type": "code",
      "metadata": {
        "id": "sH23xezQob9R",
        "colab_type": "code",
        "colab": {}
      },
      "source": [
        "m=[]\n",
        "N=10\n",
        "a=0\n",
        "b=10\n",
        "for i in range(10000):\n",
        "  mean=genrate_sample_mean(a,b,N)\n",
        "  m.append(mean)"
      ],
      "execution_count": 0,
      "outputs": []
    },
    {
      "cell_type": "code",
      "metadata": {
        "id": "EzXOnLtEt0nz",
        "colab_type": "code",
        "outputId": "6e83108d-5817-42a9-fd3b-3257ae1ec1a8",
        "colab": {
          "base_uri": "https://localhost:8080/",
          "height": 34
        }
      },
      "source": [
        "sample_mean=np.mean(m)\n",
        "print(sample_mean)"
      ],
      "execution_count": 13,
      "outputs": [
        {
          "output_type": "stream",
          "text": [
            "4.9957598494555375\n"
          ],
          "name": "stdout"
        }
      ]
    },
    {
      "cell_type": "code",
      "metadata": {
        "id": "CEPyBkOltiIN",
        "colab_type": "code",
        "outputId": "185169a7-1497-4a74-d29c-967f0aabb011",
        "colab": {
          "base_uri": "https://localhost:8080/",
          "height": 312
        }
      },
      "source": [
        "plt.hist(m, bins=1000,color='blue',edgecolor='blue')\n",
        "plt.title('Uniform distribution sample mean for N =1000')\n",
        "plt.xlabel('Uniform Distribution Sample mean')\n",
        "plt.ylabel('Frequency')"
      ],
      "execution_count": 14,
      "outputs": [
        {
          "output_type": "execute_result",
          "data": {
            "text/plain": [
              "Text(0, 0.5, 'Frequency')"
            ]
          },
          "metadata": {
            "tags": []
          },
          "execution_count": 14
        },
        {
          "output_type": "display_data",
          "data": {
            "image/png": "[encoded data removed]",
            "text/plain": [
              "<Figure size 432x288 with 1 Axes>"
            ]
          },
          "metadata": {
            "tags": []
          }
        }
      ]
    },
    {
      "cell_type": "markdown",
      "metadata": {
        "id": "kOXWKaUF44Yg",
        "colab_type": "text"
      },
      "source": [
        ""
      ]
    },
    {
      "cell_type": "code",
      "metadata": {
        "id": "e_vFDI2at2mK",
        "colab_type": "code",
        "outputId": "d0f46f52-e83f-4243-c8ce-ffce194897a3",
        "colab": {
          "base_uri": "https://localhost:8080/",
          "height": 34
        }
      },
      "source": [
        "time1=np.histogram(m, bins=[4.99,5.01])\n",
        "print(time1)"
      ],
      "execution_count": 15,
      "outputs": [
        {
          "output_type": "stream",
          "text": [
            "(array([96]), array([4.99, 5.01]))\n"
          ],
          "name": "stdout"
        }
      ]
    },
    {
      "cell_type": "code",
      "metadata": {
        "id": "Aez2K7Eet48I",
        "colab_type": "code",
        "outputId": "340cbace-26cb-44b6-c56a-aedfb19bf135",
        "colab": {
          "base_uri": "https://localhost:8080/",
          "height": 34
        }
      },
      "source": [
        "time2=np.histogram(m, bins=[4.9,5.1])\n",
        "print(time2)"
      ],
      "execution_count": 16,
      "outputs": [
        {
          "output_type": "stream",
          "text": [
            "(array([824]), array([4.9, 5.1]))\n"
          ],
          "name": "stdout"
        }
      ]
    },
    {
      "cell_type": "markdown",
      "metadata": {
        "id": "IyHisduCgG9C",
        "colab_type": "text"
      },
      "source": [
        "calculation of 95% confidence interval\n"
      ]
    },
    {
      "cell_type": "code",
      "metadata": {
        "id": "iI3EfaOLgKjb",
        "colab_type": "code",
        "outputId": "0ddccb53-59ed-4c49-da92-897a0834e5d4",
        "colab": {
          "base_uri": "https://localhost:8080/",
          "height": 68
        }
      },
      "source": [
        "s=np.sort(m)\n",
        "h1=s[250]\n",
        "h2=s[9749]\n",
        "print(\"confidence interval\",h1,h2)\n",
        "time3=np.histogram(m, bins=[h1,h2])\n",
        "print(\"sample means falling inside the CI\",time3)\n",
        "CI=(h2-h1)/2\n",
        "print(\"epilson\", CI)"
      ],
      "execution_count": 17,
      "outputs": [
        {
          "output_type": "stream",
          "text": [
            "confidence interval 3.2034972941863105 6.790238665016226\n",
            "sample means falling inside the CI (array([9500]), array([3.20349729, 6.79023867]))\n",
            "epilson 1.7933706854149576\n"
          ],
          "name": "stdout"
        }
      ]
    },
    {
      "cell_type": "markdown",
      "metadata": {
        "id": "wYP7CE1igT90",
        "colab_type": "text"
      },
      "source": [
        "To find the number of times true mean fall outside the confidence interval"
      ]
    },
    {
      "cell_type": "code",
      "metadata": {
        "id": "Au2M1sF3gU4J",
        "colab_type": "code",
        "outputId": "bcc82ec4-d03a-491b-888c-6dece4a3afe4",
        "colab": {
          "base_uri": "https://localhost:8080/",
          "height": 34
        }
      },
      "source": [
        "count=0\n",
        "for i in range(10000):\n",
        "  lower=m[i]-CI\n",
        "  upper=m[i]+CI\n",
        "  if lower<=5<=upper:\n",
        "    count=count+1\n",
        "outside=10000-count\n",
        "print(outside)"
      ],
      "execution_count": 18,
      "outputs": [
        {
          "output_type": "stream",
          "text": [
            "500\n"
          ],
          "name": "stdout"
        }
      ]
    }
  ]
}