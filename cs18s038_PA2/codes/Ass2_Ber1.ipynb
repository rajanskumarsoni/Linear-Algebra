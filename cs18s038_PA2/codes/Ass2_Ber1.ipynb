{
  "nbformat": 4,
  "nbformat_minor": 0,
  "metadata": {
    "colab": {
      "name": "Ass2_Ber1.ipynb",
      "provenance": [],
      "collapsed_sections": []
    },
    "kernelspec": {
      "name": "python3",
      "display_name": "Python 3"
    }
  },
  "cells": [
    {
      "cell_type": "code",
      "metadata": {
        "id": "1WTmL0xLmUKd",
        "colab_type": "code",
        "colab": {}
      },
      "source": [
        "from math import exp, factorial\n",
        "import matplotlib.pyplot as plt\n",
        "import numpy as np\n",
        "import random \n",
        "import seaborn as sns\n",
        "from scipy.stats import bernoulli"
      ],
      "execution_count": 0,
      "outputs": []
    },
    {
      "cell_type": "code",
      "metadata": {
        "id": "3MXlpGnXHP_P",
        "colab_type": "code",
        "colab": {}
      },
      "source": [
        "def genrate_sample_mean(N):\n",
        "  X=bernoulli.rvs(size=N,p=0.5)\n",
        "  p=sum(X)/N \n",
        "  return p\n",
        " "
      ],
      "execution_count": 0,
      "outputs": []
    },
    {
      "cell_type": "code",
      "metadata": {
        "id": "acUIOiwM6Nib",
        "colab_type": "code",
        "colab": {}
      },
      "source": [
        "m=[]\n",
        "N=10\n",
        "p=0.5\n",
        "for i in range(10000):\n",
        "  mean=genrate_sample_mean(N)\n",
        "  m.append(mean)"
      ],
      "execution_count": 0,
      "outputs": []
    },
    {
      "cell_type": "code",
      "metadata": {
        "id": "aQuoZ9f3ffPK",
        "colab_type": "code",
        "outputId": "1f1548bb-ed9e-4ef6-b4d7-52960187150a",
        "colab": {
          "base_uri": "https://localhost:8080/",
          "height": 34
        }
      },
      "source": [
        "sample_mean=np.mean(m)\n",
        "print(sample_mean)"
      ],
      "execution_count": 4,
      "outputs": [
        {
          "output_type": "stream",
          "text": [
            "0.49835999999999997\n"
          ],
          "name": "stdout"
        }
      ]
    },
    {
      "cell_type": "code",
      "metadata": {
        "id": "ZHQcfodaAVKj",
        "colab_type": "code",
        "colab": {
          "base_uri": "https://localhost:8080/",
          "height": 312
        },
        "outputId": "6f717c0e-e450-4873-b9d7-b9f6520cf4a1"
      },
      "source": [
        "plt.hist(m, bins=1000,color='blue',edgecolor='blue')\n",
        "plt.title('Bernoulli sample mean for N =100')\n",
        "plt.xlabel('Bernoulli Sample mean')\n",
        "plt.ylabel('Frequency')"
      ],
      "execution_count": 10,
      "outputs": [
        {
          "output_type": "execute_result",
          "data": {
            "text/plain": [
              "Text(0, 0.5, 'Frequency')"
            ]
          },
          "metadata": {
            "tags": []
          },
          "execution_count": 10
        },
        {
          "output_type": "display_data",
          "data": {
            "image/png": "[encoded data removed]",
            "text/plain": [
              "<Figure size 432x288 with 1 Axes>"
            ]
          },
          "metadata": {
            "tags": []
          }
        }
      ]
    },
    {
      "cell_type": "markdown",
      "metadata": {
        "id": "j3shFs8OdsmT",
        "colab_type": "text"
      },
      "source": [
        "Number of times sample mean is between the interval [mu+/-0.01]\n"
      ]
    },
    {
      "cell_type": "code",
      "metadata": {
        "id": "8Z10IRkDdHUY",
        "colab_type": "code",
        "outputId": "7862fa3f-81fb-4812-e6a1-39135cdf4c71",
        "colab": {
          "base_uri": "https://localhost:8080/",
          "height": 34
        }
      },
      "source": [
        "time1=np.histogram(m, bins=[0.49,0.51])\n",
        "print(time1)"
      ],
      "execution_count": 5,
      "outputs": [
        {
          "output_type": "stream",
          "text": [
            "(array([2485]), array([0.49, 0.51]))\n"
          ],
          "name": "stdout"
        }
      ]
    },
    {
      "cell_type": "markdown",
      "metadata": {
        "id": "kek9c3cGdd-G",
        "colab_type": "text"
      },
      "source": [
        "Number of times sample mean is between the interval [mu+/-0.1]"
      ]
    },
    {
      "cell_type": "code",
      "metadata": {
        "id": "_MIZOC8ucL26",
        "colab_type": "code",
        "outputId": "981eb545-4456-4724-e859-cef6e9a7385f",
        "colab": {
          "base_uri": "https://localhost:8080/",
          "height": 34
        }
      },
      "source": [
        "time2=np.histogram(m, bins=[0.4,0.6])\n",
        "print(time2)"
      ],
      "execution_count": 6,
      "outputs": [
        {
          "output_type": "stream",
          "text": [
            "(array([6683]), array([0.4, 0.6]))\n"
          ],
          "name": "stdout"
        }
      ]
    },
    {
      "cell_type": "code",
      "metadata": {
        "id": "Gmzq3RAlIndV",
        "colab_type": "code",
        "outputId": "a621b7fb-e4dd-4ae6-c03b-fd41f741f2d3",
        "colab": {
          "base_uri": "https://localhost:8080/",
          "height": 34
        }
      },
      "source": [
        "time1=np.histogram(m, bins=[0.402,0.596])\n",
        "print(time1)"
      ],
      "execution_count": 7,
      "outputs": [
        {
          "output_type": "stream",
          "text": [
            "(array([2485]), array([0.402, 0.596]))\n"
          ],
          "name": "stdout"
        }
      ]
    },
    {
      "cell_type": "markdown",
      "metadata": {
        "id": "n-_rPPLTZTCr",
        "colab_type": "text"
      },
      "source": [
        "Calculation of 95% confidence interval"
      ]
    },
    {
      "cell_type": "code",
      "metadata": {
        "id": "_2eXDFj7R_Ki",
        "colab_type": "code",
        "outputId": "be8ebc52-b33e-4a89-f586-cb91b1e4b944",
        "colab": {
          "base_uri": "https://localhost:8080/",
          "height": 68
        }
      },
      "source": [
        "s=np.sort(m)\n",
        "h1=s[250]\n",
        "h2=s[9749]\n",
        "print(\"confidence interval\",h1,h2)\n",
        "time3=np.histogram(m, bins=[h1,h2])\n",
        "print(\"sample means falling inside the CI\",time3)\n",
        "CI=(h2-h1)/2\n",
        "print(\"epilson\", CI)\n"
      ],
      "execution_count": 8,
      "outputs": [
        {
          "output_type": "stream",
          "text": [
            "confidence interval 0.2 0.8\n",
            "sample means falling inside the CI (array([9779]), array([0.2, 0.8]))\n",
            "epilson 0.30000000000000004\n"
          ],
          "name": "stdout"
        }
      ]
    },
    {
      "cell_type": "markdown",
      "metadata": {
        "id": "VhvLYTnuVAVl",
        "colab_type": "text"
      },
      "source": [
        "To find the number of times true mean fall outside the confidence interval"
      ]
    },
    {
      "cell_type": "code",
      "metadata": {
        "id": "l2tyAsMSS44W",
        "colab_type": "code",
        "outputId": "830e0d0c-c597-46ec-ef9d-3238c46166a8",
        "colab": {
          "base_uri": "https://localhost:8080/",
          "height": 34
        }
      },
      "source": [
        "count=0\n",
        "for i in range(10000):\n",
        "  lower=m[i]-CI\n",
        "  upper=m[i]+CI\n",
        "  if lower<=0.5<=upper:\n",
        "    count=count+1\n",
        "outside=10000-count\n",
        "print(outside)\n"
      ],
      "execution_count": 9,
      "outputs": [
        {
          "output_type": "stream",
          "text": [
            "221\n"
          ],
          "name": "stdout"
        }
      ]
    }
  ]
}