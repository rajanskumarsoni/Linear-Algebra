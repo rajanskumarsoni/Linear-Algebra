{
  "nbformat": 4,
  "nbformat_minor": 0,
  "metadata": {
    "colab": {
      "name": "Ass2_Poisson.ipynb",
      "provenance": [],
      "collapsed_sections": []
    },
    "kernelspec": {
      "name": "python3",
      "display_name": "Python 3"
    }
  },
  "cells": [
    {
      "cell_type": "code",
      "metadata": {
        "id": "_vaPvnTfa3OI",
        "colab_type": "code",
        "colab": {}
      },
      "source": [
        "from math import exp, factorial\n",
        "import matplotlib.pyplot as plt\n",
        "import numpy as np\n",
        "import random \n",
        "import seaborn as sns\n",
        "from scipy.stats import poisson\n"
      ],
      "execution_count": 0,
      "outputs": []
    },
    {
      "cell_type": "code",
      "metadata": {
        "id": "RdMSgDWVjl3O",
        "colab_type": "code",
        "colab": {}
      },
      "source": [
        "def genrate_sample_mean(l):\n",
        "  X=np.random.poisson(lam=(5), size=(N))\n",
        "  p=sum(X)/N \n",
        "  return p"
      ],
      "execution_count": 0,
      "outputs": []
    },
    {
      "cell_type": "code",
      "metadata": {
        "id": "e8tmFYDQjxr6",
        "colab_type": "code",
        "colab": {}
      },
      "source": [
        "m=[]\n",
        "N=10\n",
        "l=5\n",
        "for i in range(10000):\n",
        "  mean=genrate_sample_mean(N)\n",
        "  m.append(mean)"
      ],
      "execution_count": 0,
      "outputs": []
    },
    {
      "cell_type": "code",
      "metadata": {
        "id": "pYeb7_A8kds4",
        "colab_type": "code",
        "outputId": "f2e5e558-327c-40be-e40d-b5d40eb04f34",
        "colab": {
          "base_uri": "https://localhost:8080/",
          "height": 34
        }
      },
      "source": [
        "sample_mean=np.mean(m)\n",
        "print(sample_mean)"
      ],
      "execution_count": 4,
      "outputs": [
        {
          "output_type": "stream",
          "text": [
            "4.994540000000001\n"
          ],
          "name": "stdout"
        }
      ]
    },
    {
      "cell_type": "code",
      "metadata": {
        "id": "6bf19G1fkDgD",
        "colab_type": "code",
        "outputId": "420a0641-601b-4490-f7cd-a494817c59c3",
        "colab": {
          "base_uri": "https://localhost:8080/",
          "height": 312
        }
      },
      "source": [
        "plt.hist(m, bins=1000,color='blue',edgecolor='blue')\n",
        "plt.title('Poisson sample mean for N =100')\n",
        "plt.xlabel('Poisson Sample mean')\n",
        "plt.ylabel('Frequency')"
      ],
      "execution_count": 5,
      "outputs": [
        {
          "output_type": "execute_result",
          "data": {
            "text/plain": [
              "Text(0, 0.5, 'Frequency')"
            ]
          },
          "metadata": {
            "tags": []
          },
          "execution_count": 5
        },
        {
          "output_type": "display_data",
          "data": {
            "image/png": "[encoded data removed]",
            "text/plain": [
              "<Figure size 432x288 with 1 Axes>"
            ]
          },
          "metadata": {
            "tags": []
          }
        }
      ]
    },
    {
      "cell_type": "code",
      "metadata": {
        "id": "SSsAezqck9Iz",
        "colab_type": "code",
        "outputId": "c92073ae-6644-40ce-d241-6195df3bb9ba",
        "colab": {
          "base_uri": "https://localhost:8080/",
          "height": 34
        }
      },
      "source": [
        "time1=np.histogram(m, bins=[4.99,5.01])\n",
        "print(time1)"
      ],
      "execution_count": 6,
      "outputs": [
        {
          "output_type": "stream",
          "text": [
            "(array([566]), array([4.99, 5.01]))\n"
          ],
          "name": "stdout"
        }
      ]
    },
    {
      "cell_type": "code",
      "metadata": {
        "id": "5H7sXbzVlF5x",
        "colab_type": "code",
        "outputId": "6e2905fb-1967-4768-da9b-78d64d135004",
        "colab": {
          "base_uri": "https://localhost:8080/",
          "height": 34
        }
      },
      "source": [
        "time2=np.histogram(m, bins=[4.9,5.1])\n",
        "print(time2)"
      ],
      "execution_count": 7,
      "outputs": [
        {
          "output_type": "stream",
          "text": [
            "(array([1661]), array([4.9, 5.1]))\n"
          ],
          "name": "stdout"
        }
      ]
    },
    {
      "cell_type": "markdown",
      "metadata": {
        "id": "k0k0236idp7T",
        "colab_type": "text"
      },
      "source": [
        "calculation of 95% confidence interval\n"
      ]
    },
    {
      "cell_type": "code",
      "metadata": {
        "id": "boEYfC1xlQ4Z",
        "colab_type": "code",
        "outputId": "fdd86227-a6c1-4228-b737-563e6af35364",
        "colab": {
          "base_uri": "https://localhost:8080/",
          "height": 68
        }
      },
      "source": [
        "s=np.sort(m)\n",
        "h1=s[250]\n",
        "h2=s[9749]\n",
        "print(\"confidence interval\",h1,h2)\n",
        "time3=np.histogram(m, bins=[h1,h2])\n",
        "print(\"sample means falling inside the CI\",time3)\n",
        "CI=(h2-h1)/2\n",
        "print(\"epilson\", CI)"
      ],
      "execution_count": 8,
      "outputs": [
        {
          "output_type": "stream",
          "text": [
            "confidence interval 3.7 6.4\n",
            "sample means falling inside the CI (array([9524]), array([3.7, 6.4]))\n",
            "epilson 1.35\n"
          ],
          "name": "stdout"
        }
      ]
    },
    {
      "cell_type": "markdown",
      "metadata": {
        "id": "ZSwU156ddzRp",
        "colab_type": "text"
      },
      "source": [
        "To find the number of times true mean fall outside the confidence interval"
      ]
    },
    {
      "cell_type": "code",
      "metadata": {
        "id": "ROEgb9TMd0XV",
        "colab_type": "code",
        "outputId": "39328acc-c930-41f3-b108-0c6249e585b3",
        "colab": {
          "base_uri": "https://localhost:8080/",
          "height": 34
        }
      },
      "source": [
        "count=0\n",
        "for i in range(10000):\n",
        "  lower=m[i]-CI\n",
        "  upper=m[i]+CI\n",
        "  if lower<=5<=upper:\n",
        "    count=count+1\n",
        "outside=10000-count\n",
        "print(outside)\n"
      ],
      "execution_count": 9,
      "outputs": [
        {
          "output_type": "stream",
          "text": [
            "553\n"
          ],
          "name": "stdout"
        }
      ]
    },
    {
      "cell_type": "code",
      "metadata": {
        "id": "22QKmgoNma06",
        "colab_type": "code",
        "colab": {}
      },
      "source": [
        "# [h1,h2]=confidence_interval(sample_mean,N)\n",
        "# print(h1,h2)"
      ],
      "execution_count": 0,
      "outputs": []
    },
    {
      "cell_type": "code",
      "metadata": {
        "id": "zf7lX0mHmfzc",
        "colab_type": "code",
        "colab": {}
      },
      "source": [
        "# time3=np.histogram(m, bins=[h2,h1])\n",
        "# print(time3)"
      ],
      "execution_count": 0,
      "outputs": []
    },
    {
      "cell_type": "code",
      "metadata": {
        "id": "D-_QOxrinf4i",
        "colab_type": "code",
        "colab": {}
      },
      "source": [
        "# ax = sns.distplot(m,\n",
        "#                   bins=100,\n",
        "#                   kde=False,\n",
        "#                   color='skyblue',\n",
        "#                   hist_kws={\"linewidth\": 15,'alpha':1})\n",
        "# ax.set(xlabel='Poisson Sample mean ', ylabel='Frequency')\n",
        "\n"
      ],
      "execution_count": 0,
      "outputs": []
    },
    {
      "cell_type": "code",
      "metadata": {
        "id": "FGEfEahDHnr7",
        "colab_type": "code",
        "colab": {}
      },
      "source": [
        "# data_poisson = poisson.rvs(mu=5, size=10)"
      ],
      "execution_count": 0,
      "outputs": []
    },
    {
      "cell_type": "code",
      "metadata": {
        "id": "kIVzgK6ea7BW",
        "colab_type": "code",
        "colab": {}
      },
      "source": [
        "# def genrate_sample_mean(l):\n",
        "#   P=[]\n",
        "#   # N=random.sample(range(0, 100), 10)\n",
        "#   # print(N)\n",
        "#   for x in N:\n",
        "#     pmf = poisson.rvs(l, N)\n",
        "#     P.append(pmf)\n",
        "#   N=np.array(N)\n",
        "#   P=np.array(P)\n",
        "#   N=np.reshape(N,(N.size,1))\n",
        "#   P=np.reshape(P,(P.size,1))\n",
        "#   freq=np.multiply(N,P)\n",
        "#   sample_mean=np.sum(freq)\n",
        "#   return sample_mean"
      ],
      "execution_count": 0,
      "outputs": []
    },
    {
      "cell_type": "code",
      "metadata": {
        "id": "S6EEwjhEbDii",
        "colab_type": "code",
        "colab": {}
      },
      "source": [
        "# m=[]\n",
        "# l=5\n",
        "# for i in range(1000):\n",
        "#   mean=genrate_sample_mean(l)\n",
        "#   m.append(mean)"
      ],
      "execution_count": 0,
      "outputs": []
    },
    {
      "cell_type": "code",
      "metadata": {
        "id": "zaOv_Ky3ZMPu",
        "colab_type": "code",
        "colab": {}
      },
      "source": [
        "# data_poissonbinomial mean"
      ],
      "execution_count": 0,
      "outputs": []
    },
    {
      "cell_type": "code",
      "metadata": {
        "id": "jYxcAzqZS-YJ",
        "colab_type": "code",
        "colab": {}
      },
      "source": [
        "# ax = sns.distplot(data_poisson,\n",
        "#                   bins=100,\n",
        "#                   kde=False,\n",
        "#                   color='skyblue',\n",
        "#                   hist_kws={\"linewidth\": 15,'alpha':1})\n",
        "# ax.set(xlabel='Poisson Distribution', ylabel='Frequency')\n"
      ],
      "execution_count": 0,
      "outputs": []
    },
    {
      "cell_type": "code",
      "metadata": {
        "id": "OmMxagfMsCyr",
        "colab_type": "code",
        "colab": {}
      },
      "source": [
        "# s=np.sort(m)\n",
        "# r1=s[73]\n",
        "# r2=s[1401]\n",
        "# print((r2-r1)/2)"
      ],
      "execution_count": 0,
      "outputs": []
    },
    {
      "cell_type": "code",
      "metadata": {
        "id": "2-e9pmHsXVY4",
        "colab_type": "code",
        "colab": {}
      },
      "source": [
        "# [h3,h4]=confidence_interval(sample_mean,1476)\n",
        "# print(h3,h4)\n",
        "# print((h3-h4)/2)"
      ],
      "execution_count": 0,
      "outputs": []
    },
    {
      "cell_type": "code",
      "metadata": {
        "id": "Wvp_kGsQc7Vi",
        "colab_type": "code",
        "colab": {}
      },
      "source": [
        "# [h3,h4]=confidence_interval(sample_mean,1728.77)\n",
        "# print(h3,h4)\n",
        "# print((h3-h4)/2)"
      ],
      "execution_count": 0,
      "outputs": []
    },
    {
      "cell_type": "code",
      "metadata": {
        "id": "5YeU5vO4XbgE",
        "colab_type": "code",
        "colab": {}
      },
      "source": [
        "# [h4,h5]=confidence_interval(sample_mean,178277)\n",
        "# print((h4-h5)/2)"
      ],
      "execution_count": 0,
      "outputs": []
    }
  ]
}