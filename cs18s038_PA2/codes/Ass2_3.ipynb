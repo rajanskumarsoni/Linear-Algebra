{
  "nbformat": 4,
  "nbformat_minor": 0,
  "metadata": {
    "colab": {
      "name": "Ass2_3.ipynb",
      "provenance": [],
      "collapsed_sections": []
    },
    "kernelspec": {
      "name": "python3",
      "display_name": "Python 3"
    }
  },
  "cells": [
    {
      "cell_type": "code",
      "metadata": {
        "id": "xJTcDjSyW5FN",
        "colab_type": "code",
        "colab": {}
      },
      "source": [
        "import numpy as np\n",
        "import matplotlib.pyplot as plt\n",
        "def probability_mass_function(x):\n",
        "    return (3/(np.pi*np.pi)*(1.0/(x*x)))\n",
        "probability_mass_function(2)\n",
        "\n",
        "def generate_samples(n):\n",
        "    n_samples = []\n",
        "    for i in range(n):\n",
        "        a = np.random.rand()\n",
        "        if a > .5000000000:\n",
        "            j = 1\n",
        "            sum1 = .5000000000\n",
        "            while a>sum1:\n",
        "                s1 = probability_mass_function(j)\n",
        "                sum1  = sum1 + s1\n",
        "                j = j +1\n",
        "            n_samples.append(j)\n",
        "        else:\n",
        "            k = 1\n",
        "            sum2 = .5000000000\n",
        "            while a<sum2:\n",
        "                s2 = probability_mass_function(k)\n",
        "                sum2  = sum2 - s2\n",
        "                k = k + 1\n",
        "            n_samples.append(-k)\n",
        "    return n_samples\n",
        "\n",
        "def expectation(n_samples):\n",
        "    ex_sum = 0.0\n",
        "    for sample in n_samples:\n",
        "        ex_sum =ex_sum  + sample*probability_mass_function(sample)\n",
        "    return ex_sum\n",
        "\n",
        "\n",
        "# generate_samples(100)       \n"
      ],
      "execution_count": 0,
      "outputs": []
    },
    {
      "cell_type": "code",
      "metadata": {
        "id": "kAsb7uZRQNCv",
        "colab_type": "code",
        "outputId": "d9945a7b-449e-4c22-bd0c-b0837de47715",
        "colab": {
          "base_uri": "https://localhost:8080/",
          "height": 1000
        }
      },
      "source": [
        "number_of_sample_set = [10000,1000,100,10]\n",
        "for_each_set =[]\n",
        "\n",
        "for n in number_of_sample_set:\n",
        "    averages = []\n",
        "    count = 0\n",
        "\n",
        "    for i in range(10000):\n",
        "        # print(count)\n",
        "        count = count +1\n",
        "        n_samples = generate_samples(n)\n",
        "        avg = expectation(n_samples)\n",
        "        averages.append(avg)\n",
        "    a = (np.min(averages),np.max(averages),np.mean(averages),averages)\n",
        "    for_each_set.append(a)\n",
        "    plt.hist(averages,bins = 1000)\n",
        "    plt.xlabel('Sample mean')\n",
        "    plt.ylabel('Frequency')\n",
        "    plt.show()\n",
        "    plt.close()\n",
        "\n"
      ],
      "execution_count": 0,
      "outputs": [
        {
          "output_type": "display_data",
          "data": {
            "image/png": "[encoded data removed]",
            "text/plain": [
              "<Figure size 432x288 with 1 Axes>"
            ]
          },
          "metadata": {
            "tags": []
          }
        },
        {
          "output_type": "display_data",
          "data": {
            "image/png": "[encoded data removed]",
            "text/plain": [
              "<Figure size 432x288 with 1 Axes>"
            ]
          },
          "metadata": {
            "tags": []
          }
        },
        {
          "output_type": "display_data",
          "data": {
            "image/png": "[encoded data removed]",
            "text/plain": [
              "<Figure size 432x288 with 1 Axes>"
            ]
          },
          "metadata": {
            "tags": []
          }
        },
        {
          "output_type": "display_data",
          "data": {
            "image/png": "[encoded data removed]",
            "text/plain": [
              "<Figure size 432x288 with 1 Axes>"
            ]
          },
          "metadata": {
            "tags": []
          }
        }
      ]
    },
    {
      "cell_type": "code",
      "metadata": {
        "id": "zUjm3h6Ccwsn",
        "colab_type": "code",
        "outputId": "b96a603b-58b0-4c06-fa41-eed8f36b6836",
        "colab": {
          "base_uri": "https://localhost:8080/",
          "height": 85
        }
      },
      "source": [
        "\n",
        "\n",
        "def confidence_intervals(averages):\n",
        "    averages = np.sort(averages)\n",
        "    return (averages[250],averages[9749])\n",
        "\n",
        "confidence_intervals_for_each_n_samples = []\n",
        "for i in range(4):\n",
        "    p = confidence_intervals(for_each_set[i][3])\n",
        "    confidence_intervals_for_each_n_samples.append(p)\n",
        "confidence_intervals_for_each_n_samples"
      ],
      "execution_count": 0,
      "outputs": [
        {
          "output_type": "execute_result",
          "data": {
            "text/plain": [
              "[(-24.928967222972762, 25.239439987872032),\n",
              " (-8.002214423799378, 7.647468119618973),\n",
              " (-2.522503259774309, 2.44314036816583),\n",
              " (-0.7816205595266057, 0.776795741257923)]"
            ]
          },
          "metadata": {
            "tags": []
          },
          "execution_count": 15
        }
      ]
    },
    {
      "cell_type": "code",
      "metadata": {
        "id": "zvFFOHXllcPE",
        "colab_type": "code",
        "outputId": "2538a8ce-52b4-4304-bb52-5826cb154d76",
        "colab": {
          "base_uri": "https://localhost:8080/",
          "height": 85
        }
      },
      "source": [
        "for d in for_each_set:\n",
        "    print(d[0],d[1],d[2])\n"
      ],
      "execution_count": 0,
      "outputs": [
        {
          "output_type": "stream",
          "text": [
            "-50.2846638290138 50.72204178643572 0.037666647765058056\n",
            "-14.478213606696889 15.321498597036213 -0.0769533842578767\n",
            "-4.850777637788655 5.515943760286277 -0.016670326475353124\n",
            "-1.4691571628138977 1.304510239395099 -0.004946356683642588\n"
          ],
          "name": "stdout"
        }
      ]
    }
  ]
}